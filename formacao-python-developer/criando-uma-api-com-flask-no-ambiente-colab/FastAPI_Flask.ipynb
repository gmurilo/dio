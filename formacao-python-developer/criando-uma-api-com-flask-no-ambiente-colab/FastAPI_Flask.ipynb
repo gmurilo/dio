{
  "nbformat": 4,
  "nbformat_minor": 0,
  "metadata": {
    "colab": {
      "provenance": [],
      "collapsed_sections": []
    },
    "kernelspec": {
      "name": "python3",
      "display_name": "Python 3"
    },
    "language_info": {
      "name": "python"
    }
  },
  "cells": [
    {
      "cell_type": "markdown",
      "source": [
        "Install Flask"
      ],
      "metadata": {
        "id": "awqwpkben991"
      }
    },
    {
      "cell_type": "code",
      "source": [
        "!pip install flask flask-ngrok"
      ],
      "metadata": {
        "id": "wqKxkS2noISb"
      },
      "execution_count": null,
      "outputs": []
    },
    {
      "cell_type": "code",
      "source": [
        "from flask import *\n",
        "from flask_ngrok import run_with_ngrok\n",
        "app = Flask(__name__)\n",
        "@app.route('/index')\n",
        "def home():\n",
        "\treturn 'Hello World'\n",
        "run_with_ngrok(app)\n",
        "app.run()\n"
      ],
      "metadata": {
        "id": "Rv55gxZBn-8v",
        "colab": {
          "base_uri": "https://localhost:8080/"
        },
        "outputId": "a1b0dd3e-cb10-4ff7-a1f9-7247e66ac648"
      },
      "execution_count": null,
      "outputs": [
        {
          "output_type": "stream",
          "name": "stdout",
          "text": [
            " * Serving Flask app \"__main__\" (lazy loading)\n",
            " * Environment: production\n",
            "\u001b[31m   WARNING: This is a development server. Do not use it in a production deployment.\u001b[0m\n",
            "\u001b[2m   Use a production WSGI server instead.\u001b[0m\n",
            " * Debug mode: off\n"
          ]
        },
        {
          "output_type": "stream",
          "name": "stderr",
          "text": [
            "INFO:werkzeug: * Running on http://127.0.0.1:5000/ (Press CTRL+C to quit)\n"
          ]
        },
        {
          "output_type": "stream",
          "name": "stdout",
          "text": [
            " * Running on http://9bc4-34-173-105-35.ngrok.io\n",
            " * Traffic stats available on http://127.0.0.1:4040\n"
          ]
        }
      ]
    },
    {
      "cell_type": "markdown",
      "source": [
        "Install"
      ],
      "metadata": {
        "id": "F_v00ioeo1Ap"
      }
    },
    {
      "cell_type": "code",
      "source": [
        "!pip install fastapi nest-asyncio pyngrok uvicorn"
      ],
      "metadata": {
        "id": "2LpuKBczo17Z"
      },
      "execution_count": null,
      "outputs": []
    },
    {
      "cell_type": "markdown",
      "source": [
        "Run same project with fastapi"
      ],
      "metadata": {
        "id": "Rxe2-hKsqWgP"
      }
    },
    {
      "cell_type": "code",
      "source": [
        "from fastapi import FastAPI\n",
        "import nest_asyncio\n",
        "from pyngrok import ngrok\n",
        "import uvicorn\n",
        "\n",
        "app = FastAPI()\n",
        "\n",
        "@app.get('/index')\n",
        "async def home():\n",
        "  return \"Hello World\"\n",
        "#ngrok.disconnect(9000)\n",
        "ngrok_tunnel = ngrok.connect(9000)\n",
        "print('Public URL:', ngrok_tunnel.public_url)\n",
        "nest_asyncio.apply()\n",
        "uvicorn.run(app, port=9000)\n"
      ],
      "metadata": {
        "id": "nXGehxNcqZPP"
      },
      "execution_count": null,
      "outputs": []
    },
    {
      "cell_type": "markdown",
      "source": [
        "Desafio"
      ],
      "metadata": {
        "id": "WAouX2m6wf8q"
      }
    },
    {
      "cell_type": "code",
      "source": [
        "!pip install pandas"
      ],
      "metadata": {
        "id": "q4gBySbGwkrj"
      },
      "execution_count": null,
      "outputs": []
    },
    {
      "cell_type": "code",
      "source": [
        "!ngrok authtoken "
      ],
      "metadata": {
        "colab": {
          "base_uri": "https://localhost:8080/"
        },
        "id": "epUvP65Pxy8J",
        "outputId": "dc78f2ad-4ec1-4a0f-8a4e-fe562762b13e"
      },
      "execution_count": 39,
      "outputs": [
        {
          "output_type": "stream",
          "name": "stdout",
          "text": [
            "Authtoken saved to configuration file: /root/.ngrok2/ngrok.yml\n"
          ]
        }
      ]
    },
    {
      "cell_type": "code",
      "source": [
        "import pandas as pd\n",
        "from flask_ngrok import run_with_ngrok\n",
        "from flask import request, jsonify, Flask\n",
        "import random as rk\n",
        "\n",
        "app = Flask(__name__) \n",
        "run_with_ngrok(app)\n",
        "\n",
        "d = {\n",
        "    \"name:\": \"Nikola\",\n",
        "    \"surname\": \"Tesla\",\n",
        "    \"idade\": 60\n",
        "}\n",
        "\n",
        "@app.route(\"/\")\n",
        "\n",
        "def home():\n",
        "    return '''\n",
        "    <!DOCTYPE html>\n",
        "    <html>\n",
        "    <head>\n",
        "      <title>My Flask Application</title>\n",
        "      <meta name=\"author\" content=\"Giovani Correa\" />\n",
        "      <meta name=\"description\" content=\"Meu projeto Flask\" />\n",
        "    </head>\n",
        "    <body><ul>\n",
        "    <li><h3>Known URLs:</h3></li>\n",
        "    <li><a href=\"./input\">/input</a></li>\n",
        "    <li><a href=\"./output\">/output</a></li>\n",
        "    </ul></body>\n",
        "    </html>\n",
        "    '''\n",
        "\n",
        "\n",
        "@app.route(\"/input\")\n",
        "\n",
        "def input():\n",
        "    return jsonify(d)\n",
        "\n",
        "@app.route('/output', methods=['GET', 'POST'])\n",
        "\n",
        "def predJson():\n",
        "    pred = \"positive\"\n",
        "    nd = d\n",
        "    nd[\"prediction\"] = pred\n",
        "    return jsonify(nd)\n",
        "\n",
        "app.run()"
      ],
      "metadata": {
        "id": "33MSlg_iwg81"
      },
      "execution_count": null,
      "outputs": []
    }
  ]
}